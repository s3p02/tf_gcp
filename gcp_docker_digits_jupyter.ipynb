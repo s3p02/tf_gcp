{
 "cells": [
  {
   "cell_type": "markdown",
   "metadata": {},
   "source": [
    "v0.1"
   ]
  },
  {
   "cell_type": "code",
   "execution_count": 35,
   "metadata": {},
   "outputs": [
    {
     "data": {
      "image/png": "[encoded data removed]",
      "text/plain": [
       "<IPython.core.display.Image object>"
      ]
     },
     "execution_count": 35,
     "metadata": {
      "image/png": {
       "height": 300,
       "width": 300
      }
     },
     "output_type": "execute_result"
    }
   ],
   "source": [
    "from IPython.display import Image\n",
    "Image(\"http://cse.ucdenver.edu/~tamvu/images/cudenver.png\",width=300, height=300)"
   ]
  },
  {
   "cell_type": "markdown",
   "metadata": {},
   "source": [
    "# Jupyter Notebook Tutorial for Deep Learning Image Classification using Caffe on Google Cloud Platform with NVIDIA  Docker"
   ]
  },
  {
   "cell_type": "markdown",
   "metadata": {},
   "source": [
    "Author: SREE SAI SHARAN PANTANGI"
   ]
  },
  {
   "cell_type": "markdown",
   "metadata": {},
   "source": [
    "Graduate Research Assistant for Dr. Dan Connors, Department of Electrical Engineering, University of Colorado Denver"
   ]
  },
  {
   "cell_type": "markdown",
   "metadata": {},
   "source": [
    "This notebook, walks through the process of creating a caffe model for image classification. We will be using google's creative-commons licensed flower photos as our dataset. At the end of this notebook, you will also be able to download you model onto your VM for inference later."
   ]
  },
  {
   "cell_type": "markdown",
   "metadata": {},
   "source": [
    "Let us verify if the docker container that we had started is still running."
   ]
  },
  {
   "cell_type": "code",
   "execution_count": 3,
   "metadata": {},
   "outputs": [
    {
     "name": "stdout",
     "output_type": "stream",
     "text": [
      "{\r\n",
      "  \"datasets\": [], \r\n",
      "  \"jobs_dir\": \"/jobs\", \r\n",
      "  \"models\": [], \r\n",
      "  \"server_name\": \"8689d98142fe\", \r\n",
      "  \"version\": \"6.0.0\"\r\n",
      "}"
     ]
    }
   ],
   "source": [
    "!curl localhost:5000/index.json"
   ]
  },
  {
   "cell_type": "markdown",
   "metadata": {},
   "source": [
    "       "
   ]
  },
  {
   "cell_type": "markdown",
   "metadata": {},
   "source": [
    "     The above Response Indicates that there are currently no datasets or models on the server as of now."
   ]
  },
  {
   "cell_type": "markdown",
   "metadata": {},
   "source": [
    "     "
   ]
  },
  {
   "cell_type": "markdown",
   "metadata": {},
   "source": [
    "     "
   ]
  },
  {
   "cell_type": "markdown",
   "metadata": {},
   "source": [
    "We had initialized our container to talk to port 5000, using this port we shall communicate with DIGITS"
   ]
  },
  {
   "cell_type": "markdown",
   "metadata": {},
   "source": [
    "   "
   ]
  },
  {
   "cell_type": "markdown",
   "metadata": {},
   "source": [
    "   "
   ]
  },
  {
   "cell_type": "markdown",
   "metadata": {},
   "source": [
    "   "
   ]
  },
  {
   "cell_type": "markdown",
   "metadata": {},
   "source": [
    "   In order to create a dataset, you will first need to log in. The following command will log us in as user, you may enter your name. You can change username to your name if you'd like. The whole point of logging in is that multiple users can login to the same DIGITS server, create models, datasets and download them at the same time. "
   ]
  },
  {
   "cell_type": "code",
   "execution_count": 4,
   "metadata": {},
   "outputs": [
    {
     "name": "stdout",
     "output_type": "stream",
     "text": [
      "<!DOCTYPE HTML PUBLIC \"-//W3C//DTD HTML 3.2 Final//EN\">\r\n",
      "<title>Redirecting...</title>\r\n",
      "<h1>Redirecting...</h1>\r\n",
      "<p>You should be redirected automatically to target URL: <a href=\"/\">/</a>.  If not click the link."
     ]
    }
   ],
   "source": [
    "!curl localhost:5000/login -c digits.cookie -XPOST -F username=user"
   ]
  },
  {
   "cell_type": "markdown",
   "metadata": {},
   "source": [
    "    "
   ]
  },
  {
   "cell_type": "markdown",
   "metadata": {},
   "source": [
    "   "
   ]
  },
  {
   "cell_type": "markdown",
   "metadata": {},
   "source": [
    "  We are going to download google's creative-commons licensed flower photos for our dataset."
   ]
  },
  {
   "cell_type": "code",
   "execution_count": 5,
   "metadata": {},
   "outputs": [
    {
     "name": "stdout",
     "output_type": "stream",
     "text": [
      "  % Total    % Received % Xferd  Average Speed   Time    Time     Time  Current\n",
      "                                 Dload  Upload   Total   Spent    Left  Speed\n",
      "100  218M  100  218M    0     0   109M      0  0:00:02  0:00:02 --:--:-- 78.4M\n"
     ]
    }
   ],
   "source": [
    "!curl http://download.tensorflow.org/example_images/flower_photos.tgz \\\n",
    "    | tar xz -C ~/"
   ]
  },
  {
   "cell_type": "markdown",
   "metadata": {},
   "source": [
    "  "
   ]
  },
  {
   "cell_type": "markdown",
   "metadata": {},
   "source": [
    "  "
   ]
  },
  {
   "cell_type": "markdown",
   "metadata": {},
   "source": [
    " By listing our dataset, we can infer that our dataset consists of 5 classes, with each class having >100 images"
   ]
  },
  {
   "cell_type": "code",
   "execution_count": 6,
   "metadata": {},
   "outputs": [
    {
     "name": "stdout",
     "output_type": "stream",
     "text": [
      "daisy  dandelion  LICENSE.txt  roses  sunflowers  tulips\r\n"
     ]
    }
   ],
   "source": [
    "!ls ~/flower_photos\n"
   ]
  },
  {
   "cell_type": "markdown",
   "metadata": {},
   "source": [
    " "
   ]
  },
  {
   "cell_type": "markdown",
   "metadata": {},
   "source": [
    " "
   ]
  },
  {
   "cell_type": "markdown",
   "metadata": {},
   "source": [
    " Set path to create dataset on DIGITS, the following has the path set to '/home/srpa3180/flower_photos/', in your case it will be 'home/your/username/flower_photos/'. You can name your dataset as well."
   ]
  },
  {
   "cell_type": "code",
   "execution_count": 9,
   "metadata": {
    "collapsed": true
   },
   "outputs": [],
   "source": [
    "FLOWER_PHOTO_PATH='/home/sharan\\.sreesai/flower_photos/'\n",
    "NAME_OF_DATASET='google_flowers_dataset'"
   ]
  },
  {
   "cell_type": "code",
   "execution_count": 10,
   "metadata": {},
   "outputs": [
    {
     "name": "stdout",
     "output_type": "stream",
     "text": [
      "{\r\n",
      "  \"id\": \"20171025-005921-aa61\", \r\n",
      "  \"name\": \"google_flowers_dataset\", \r\n",
      "  \"status\": \"Initialized\"\r\n",
      "}"
     ]
    }
   ],
   "source": [
    "!curl localhost:5000/datasets/images/classification.json -b digits.cookie -XPOST -F folder_train=$FLOWER_PHOTO_PATH -F encoding=jpg -F resize_channels=1 -F resize_width=240 -F resize_height=240 -F method=folder -F dataset_name=$NAME_OF_DATASET"
   ]
  },
  {
   "cell_type": "markdown",
   "metadata": {},
   "source": [
    " "
   ]
  },
  {
   "cell_type": "markdown",
   "metadata": {},
   "source": [
    " "
   ]
  },
  {
   "cell_type": "markdown",
   "metadata": {},
   "source": [
    " To check the status of your initialized dataset, notedown the id provided above."
   ]
  },
  {
   "cell_type": "code",
   "execution_count": 11,
   "metadata": {},
   "outputs": [
    {
     "name": "stdout",
     "output_type": "stream",
     "text": [
      "{\"status\": \"Done\", \"type\": \"Image Classification Dataset\", \"name\": \"google_flowers_dataset\", \"error\": null}"
     ]
    }
   ],
   "source": [
    "!curl localhost:5000/datasets/20171025-005921-aa61/status"
   ]
  },
  {
   "cell_type": "markdown",
   "metadata": {},
   "source": [
    " "
   ]
  },
  {
   "cell_type": "markdown",
   "metadata": {},
   "source": [
    "As shown above, it says that the dataset is complete."
   ]
  },
  {
   "cell_type": "markdown",
   "metadata": {},
   "source": [
    "To get a detailed description of the dataset, we can run the following:"
   ]
  },
  {
   "cell_type": "code",
   "execution_count": 12,
   "metadata": {},
   "outputs": [
    {
     "name": "stdout",
     "output_type": "stream",
     "text": [
      "{\r\n",
      "  \"CreateDbTasks\": [\r\n",
      "    {\r\n",
      "      \"backend\": \"lmdb\", \r\n",
      "      \"compression\": \"none\", \r\n",
      "      \"encoding\": \"jpg\", \r\n",
      "      \"entries\": 2753, \r\n",
      "      \"image_channels\": 1, \r\n",
      "      \"image_height\": 240, \r\n",
      "      \"image_width\": 240, \r\n",
      "      \"name\": \"Create DB (train)\"\r\n",
      "    }, \r\n",
      "    {\r\n",
      "      \"backend\": \"lmdb\", \r\n",
      "      \"compression\": \"none\", \r\n",
      "      \"encoding\": \"jpg\", \r\n",
      "      \"entries\": 917, \r\n",
      "      \"image_channels\": 1, \r\n",
      "      \"image_height\": 240, \r\n",
      "      \"image_width\": 240, \r\n",
      "      \"name\": \"Create DB (val)\"\r\n",
      "    }\r\n",
      "  ], \r\n",
      "  \"ParseFolderTasks\": [\r\n",
      "    {\r\n",
      "      \"label_count\": 5, \r\n",
      "      \"name\": \"Parse Folder (train/val)\", \r\n",
      "      \"test_count\": 0, \r\n",
      "      \"train_count\": 2753, \r\n",
      "      \"val_count\": 917\r\n",
      "    }\r\n",
      "  ], \r\n",
      "  \"directory\": \"/jobs/20171025-005921-aa61\", \r\n",
      "  \"id\": \"20171025-005921-aa61\", \r\n",
      "  \"name\": \"google_flowers_dataset\", \r\n",
      "  \"status\": \"Done\"\r\n",
      "}"
     ]
    }
   ],
   "source": [
    "!curl localhost:5000/datasets/20171025-005921-aa61.json"
   ]
  },
  {
   "cell_type": "markdown",
   "metadata": {},
   "source": [
    " "
   ]
  },
  {
   "cell_type": "markdown",
   "metadata": {},
   "source": [
    " "
   ]
  },
  {
   "cell_type": "markdown",
   "metadata": {},
   "source": [
    "Its Important we note down the dataset id as shown from the above response, as we shall create our model using this id."
   ]
  },
  {
   "cell_type": "markdown",
   "metadata": {},
   "source": [
    " "
   ]
  },
  {
   "cell_type": "markdown",
   "metadata": {},
   "source": [
    " "
   ]
  },
  {
   "cell_type": "markdown",
   "metadata": {},
   "source": [
    "For creating our caffe model, we shall run the following, by changing the dataset equal to the id mentioned above, and you can rename your model_name. I am using googlenet as my standard_network, you can choose from lenet, googlenet and alexnet. I am running my model for 30 iterations(epochs), you can change it if you'd like increasing to a higher number for better accuracy."
   ]
  },
  {
   "cell_type": "code",
   "execution_count": 13,
   "metadata": {},
   "outputs": [
    {
     "name": "stdout",
     "output_type": "stream",
     "text": [
      "{\r\n",
      "  \"caffe flavor\": \"NVIDIA\", \r\n",
      "  \"caffe version\": \"0.15.14\", \r\n",
      "  \"creation time\": \"2017-10-25 01:09:25.995985\", \r\n",
      "  \"dataset_id\": \"20171025-005921-aa61\", \r\n",
      "  \"deploy file\": \"deploy.prototxt\", \r\n",
      "  \"digits version\": \"6.0.0\", \r\n",
      "  \"framework\": \"caffe\", \r\n",
      "  \"id\": \"20171025-010925-8d03\", \r\n",
      "  \"image dimensions\": [\r\n",
      "    240, \r\n",
      "    240, \r\n",
      "    1\r\n",
      "  ], \r\n",
      "  \"image resize mode\": \"squash\", \r\n",
      "  \"job id\": \"20171025-010925-8d03\", \r\n",
      "  \"labels file\": \"labels.txt\", \r\n",
      "  \"mean file\": \"mean.binaryproto\", \r\n",
      "  \"model file\": \"original.prototxt\", \r\n",
      "  \"name\": \"google_flowers_model\", \r\n",
      "  \"snapshot file\": \"no snapshots\", \r\n",
      "  \"solver file\": \"solver.prototxt\", \r\n",
      "  \"status\": \"Initialized\", \r\n",
      "  \"train_val file\": \"train_val.prototxt\", \r\n",
      "  \"username\": \"user\"\r\n",
      "}"
     ]
    }
   ],
   "source": [
    "!curl localhost:5000/models/images/classification.json -b digits.cookie -XPOST -F model_name=google_flowers_model -F dataset=20171025-005921-aa61 -F method=standard -F standard_networks=googlenet -F train_epochs=30 -F framework=caffe "
   ]
  },
  {
   "cell_type": "markdown",
   "metadata": {},
   "source": [
    " "
   ]
  },
  {
   "cell_type": "markdown",
   "metadata": {},
   "source": [
    " "
   ]
  },
  {
   "cell_type": "markdown",
   "metadata": {},
   "source": [
    "The above response means that our model has been initialized. Its Important we note down the job id of our model as shown from the above response, as we will use it to check its status."
   ]
  },
  {
   "cell_type": "markdown",
   "metadata": {},
   "source": [
    " "
   ]
  },
  {
   "cell_type": "markdown",
   "metadata": {},
   "source": [
    " Run the following to check the status, by changing '/20171024-074102-fe73/status' to '/20171025-010925-8d03/status' wich is the job id as shown above."
   ]
  },
  {
   "cell_type": "code",
   "execution_count": 14,
   "metadata": {},
   "outputs": [
    {
     "name": "stdout",
     "output_type": "stream",
     "text": [
      "{\"status\": \"Running\", \"type\": \"Image Classification Model\", \"name\": \"google_flowers_model\", \"error\": null}"
     ]
    }
   ],
   "source": [
    "!curl localhost:5000/models/20171025-010925-8d03/status"
   ]
  },
  {
   "cell_type": "markdown",
   "metadata": {},
   "source": [
    " "
   ]
  },
  {
   "cell_type": "markdown",
   "metadata": {},
   "source": [
    "The model is still running, to get a better response i.e. knowing which iteration is currently running run the following by changing it with your job id:"
   ]
  },
  {
   "cell_type": "code",
   "execution_count": 15,
   "metadata": {},
   "outputs": [
    {
     "name": "stdout",
     "output_type": "stream",
     "text": [
      "{\r\n",
      "  \"caffe flavor\": \"NVIDIA\", \r\n",
      "  \"caffe version\": \"0.15.14\", \r\n",
      "  \"creation time\": \"2017-10-25 01:09:25.995985\", \r\n",
      "  \"dataset_id\": \"20171025-005921-aa61\", \r\n",
      "  \"deploy file\": \"deploy.prototxt\", \r\n",
      "  \"digits version\": \"6.0.0\", \r\n",
      "  \"directory\": \"/jobs/20171025-010925-8d03\", \r\n",
      "  \"framework\": \"caffe\", \r\n",
      "  \"id\": \"20171025-010925-8d03\", \r\n",
      "  \"image dimensions\": [\r\n",
      "    240, \r\n",
      "    240, \r\n",
      "    1\r\n",
      "  ], \r\n",
      "  \"image resize mode\": \"squash\", \r\n",
      "  \"job id\": \"20171025-010925-8d03\", \r\n",
      "  \"labels file\": \"labels.txt\", \r\n",
      "  \"mean file\": \"mean.binaryproto\", \r\n",
      "  \"model file\": \"original.prototxt\", \r\n",
      "  \"name\": \"google_flowers_model\", \r\n",
      "  \"snapshot file\": \"snapshot_iter_783.caffemodel\", \r\n",
      "  \"snapshots\": [\r\n",
      "    1, \r\n",
      "    2, \r\n",
      "    3, \r\n",
      "    4, \r\n",
      "    5, \r\n",
      "    6, \r\n",
      "    7, \r\n",
      "    8, \r\n",
      "    9\r\n",
      "  ], \r\n",
      "  \"solver file\": \"solver.prototxt\", \r\n",
      "  \"status\": \"Running\", \r\n",
      "  \"train_val file\": \"train_val.prototxt\", \r\n",
      "  \"username\": \"user\"\r\n",
      "}"
     ]
    }
   ],
   "source": [
    "!curl localhost:5000/models/20171025-010925-8d03.json"
   ]
  },
  {
   "cell_type": "markdown",
   "metadata": {},
   "source": [
    " "
   ]
  },
  {
   "cell_type": "markdown",
   "metadata": {},
   "source": [
    " "
   ]
  },
  {
   "cell_type": "markdown",
   "metadata": {},
   "source": [
    "We notice that 9 iterations have been completed as indicated through \"snapshots\"."
   ]
  },
  {
   "cell_type": "code",
   "execution_count": 17,
   "metadata": {},
   "outputs": [
    {
     "name": "stdout",
     "output_type": "stream",
     "text": [
      "Wed Oct 25 01:20:55 2017       \r\n",
      "+-----------------------------------------------------------------------------+\r\n",
      "| NVIDIA-SMI 384.66                 Driver Version: 384.66                    |\r\n",
      "|-------------------------------+----------------------+----------------------+\r\n",
      "| GPU  Name        Persistence-M| Bus-Id        Disp.A | Volatile Uncorr. ECC |\r\n",
      "| Fan  Temp  Perf  Pwr:Usage/Cap|         Memory-Usage | GPU-Util  Compute M. |\r\n",
      "|===============================+======================+======================|\r\n",
      "|   0  Tesla K80           Off  | 00000000:00:04.0 Off |                    0 |\r\n",
      "| N/A   46C    P0   133W / 149W |   3255MiB / 11439MiB |     99%      Default |\r\n",
      "+-------------------------------+----------------------+----------------------+\r\n",
      "                                                                               \r\n",
      "+-----------------------------------------------------------------------------+\r\n",
      "| Processes:                                                       GPU Memory |\r\n",
      "|  GPU       PID  Type  Process name                               Usage      |\r\n",
      "|=============================================================================|\r\n",
      "|    0      1971    C   python                                          64MiB |\r\n",
      "|    0      2214    C   /usr/local/bin/caffe                          3178MiB |\r\n",
      "+-----------------------------------------------------------------------------+\r\n"
     ]
    }
   ],
   "source": [
    "!nvidia-smi"
   ]
  },
  {
   "cell_type": "markdown",
   "metadata": {},
   "source": [
    "  "
   ]
  },
  {
   "cell_type": "markdown",
   "metadata": {
    "collapsed": true
   },
   "source": [
    "To get check on GPU utilization and Memory, we can call the above command, which shows the below description. "
   ]
  },
  {
   "cell_type": "markdown",
   "metadata": {},
   "source": [
    " "
   ]
  },
  {
   "cell_type": "markdown",
   "metadata": {},
   "source": [
    " "
   ]
  },
  {
   "cell_type": "code",
   "execution_count": 18,
   "metadata": {},
   "outputs": [
    {
     "name": "stdout",
     "output_type": "stream",
     "text": [
      "--2017-10-25 01:22:13--  https://upload.wikimedia.org/wikipedia/commons/thumb/7/7b/Yonina_Tulip.jpg/220px-Yonina_Tulip.jpg\n",
      "Resolving upload.wikimedia.org (upload.wikimedia.org)... 198.35.26.112, 2620:0:863:ed1a::2:b\n",
      "Connecting to upload.wikimedia.org (upload.wikimedia.org)|198.35.26.112|:443... connected.\n",
      "HTTP request sent, awaiting response... 200 OK\n",
      "Length: 11827 (12K) [image/jpeg]\n",
      "Saving to: ‘/home/sharan.sreesai/220px-Yonina_Tulip.jpg’\n",
      "\n",
      "100%[======================================>] 11,827      --.-K/s   in 0.001s  \n",
      "\n",
      "2017-10-25 01:22:14 (10.7 MB/s) - ‘/home/sharan.sreesai/220px-Yonina_Tulip.jpg’ saved [11827/11827]\n",
      "\n"
     ]
    }
   ],
   "source": [
    "!wget https://upload.wikimedia.org/wikipedia/commons/thumb/7/7b/Yonina_Tulip.jpg/220px-Yonina_Tulip.jpg -P ~/"
   ]
  },
  {
   "cell_type": "markdown",
   "metadata": {},
   "source": [
    "To check for accuracy of our running model, we first download a smaple test image from wikipidia, as shown above."
   ]
  },
  {
   "cell_type": "code",
   "execution_count": 24,
   "metadata": {
    "collapsed": true
   },
   "outputs": [],
   "source": [
    "TEST_IMAGE='/home/sharan.sreesai/220px-Yonina_Tulip.jpg'"
   ]
  },
  {
   "cell_type": "markdown",
   "metadata": {},
   "source": [
    " "
   ]
  },
  {
   "cell_type": "markdown",
   "metadata": {},
   "source": [
    "The Image that we are going to test is:"
   ]
  },
  {
   "cell_type": "code",
   "execution_count": 25,
   "metadata": {},
   "outputs": [
    {
     "data": {
      "image/jpeg": "[encoded data removed]",
      "text/plain": [
       "<IPython.core.display.Image object>"
      ]
     },
     "execution_count": 25,
     "metadata": {},
     "output_type": "execute_result"
    }
   ],
   "source": [
    "Image(TEST_IMAGE)"
   ]
  },
  {
   "cell_type": "markdown",
   "metadata": {},
   "source": [
    " "
   ]
  },
  {
   "cell_type": "markdown",
   "metadata": {},
   "source": [
    " "
   ]
  },
  {
   "cell_type": "markdown",
   "metadata": {},
   "source": [
    "To test for accuracy of our running model, we run the following by changing the job id:"
   ]
  },
  {
   "cell_type": "code",
   "execution_count": 27,
   "metadata": {},
   "outputs": [
    {
     "name": "stdout",
     "output_type": "stream",
     "text": [
      "{\r\n",
      "  \"predictions\": [\r\n",
      "    [\r\n",
      "      \"tulips\", \r\n",
      "      75.96\r\n",
      "    ], \r\n",
      "    [\r\n",
      "      \"roses\", \r\n",
      "      20.75\r\n",
      "    ], \r\n",
      "    [\r\n",
      "      \"sunflowers\", \r\n",
      "      2.23\r\n",
      "    ], \r\n",
      "    [\r\n",
      "      \"dandelion\", \r\n",
      "      0.55\r\n",
      "    ], \r\n",
      "    [\r\n",
      "      \"daisy\", \r\n",
      "      0.51\r\n",
      "    ]\r\n",
      "  ]\r\n",
      "}"
     ]
    }
   ],
   "source": [
    "!curl localhost:5000/models/images/classification/classify_one.json -XPOST -F job_id=20171025-010925-8d03 -F image_file=@$TEST_IMAGE"
   ]
  },
  {
   "cell_type": "markdown",
   "metadata": {},
   "source": [
    " "
   ]
  },
  {
   "cell_type": "markdown",
   "metadata": {},
   "source": [
    "If you get a lower score, try running it againg after a few more iterations, the predictions get better."
   ]
  },
  {
   "cell_type": "markdown",
   "metadata": {},
   "source": [
    " "
   ]
  },
  {
   "cell_type": "markdown",
   "metadata": {},
   "source": [
    " "
   ]
  },
  {
   "cell_type": "markdown",
   "metadata": {},
   "source": [
    "Checking the status of our model once again, we notice that 30 epoch's have completed."
   ]
  },
  {
   "cell_type": "code",
   "execution_count": 28,
   "metadata": {},
   "outputs": [
    {
     "name": "stdout",
     "output_type": "stream",
     "text": [
      "{\r\n",
      "  \"caffe flavor\": \"NVIDIA\", \r\n",
      "  \"caffe version\": \"0.15.14\", \r\n",
      "  \"creation time\": \"2017-10-25 01:09:25.995985\", \r\n",
      "  \"dataset_id\": \"20171025-005921-aa61\", \r\n",
      "  \"deploy file\": \"deploy.prototxt\", \r\n",
      "  \"digits version\": \"6.0.0\", \r\n",
      "  \"directory\": \"/jobs/20171025-010925-8d03\", \r\n",
      "  \"framework\": \"caffe\", \r\n",
      "  \"id\": \"20171025-010925-8d03\", \r\n",
      "  \"image dimensions\": [\r\n",
      "    240, \r\n",
      "    240, \r\n",
      "    1\r\n",
      "  ], \r\n",
      "  \"image resize mode\": \"squash\", \r\n",
      "  \"job id\": \"20171025-010925-8d03\", \r\n",
      "  \"labels file\": \"labels.txt\", \r\n",
      "  \"mean file\": \"mean.binaryproto\", \r\n",
      "  \"model file\": \"original.prototxt\", \r\n",
      "  \"name\": \"google_flowers_model\", \r\n",
      "  \"snapshot file\": \"snapshot_iter_2610.caffemodel\", \r\n",
      "  \"snapshots\": [\r\n",
      "    1, \r\n",
      "    2, \r\n",
      "    3, \r\n",
      "    4, \r\n",
      "    5, \r\n",
      "    6, \r\n",
      "    7, \r\n",
      "    8, \r\n",
      "    9, \r\n",
      "    10, \r\n",
      "    11, \r\n",
      "    12, \r\n",
      "    13, \r\n",
      "    14, \r\n",
      "    15, \r\n",
      "    16, \r\n",
      "    17, \r\n",
      "    18, \r\n",
      "    19, \r\n",
      "    20, \r\n",
      "    21, \r\n",
      "    22, \r\n",
      "    23, \r\n",
      "    24, \r\n",
      "    25, \r\n",
      "    26, \r\n",
      "    27, \r\n",
      "    28, \r\n",
      "    29, \r\n",
      "    30\r\n",
      "  ], \r\n",
      "  \"solver file\": \"solver.prototxt\", \r\n",
      "  \"status\": \"Done\", \r\n",
      "  \"train_val file\": \"train_val.prototxt\", \r\n",
      "  \"username\": \"user\"\r\n",
      "}"
     ]
    }
   ],
   "source": [
    "!curl localhost:5000/models/20171025-010925-8d03.json"
   ]
  },
  {
   "cell_type": "markdown",
   "metadata": {},
   "source": [
    " "
   ]
  },
  {
   "cell_type": "markdown",
   "metadata": {},
   "source": [
    " "
   ]
  },
  {
   "cell_type": "markdown",
   "metadata": {},
   "source": [
    "To download your model from docker container, Run this function:"
   ]
  },
  {
   "cell_type": "code",
   "execution_count": 29,
   "metadata": {
    "collapsed": true
   },
   "outputs": [],
   "source": [
    "def download_caffe_model(dataset_id,job_id,dir_name,docker_container_name):\n",
    "    dataset_id_path='jobs/'+dataset_id\n",
    "    job_id_path='jobs/'+job_id\n",
    "    d_ir='~/'+dir_name\n",
    "    !mkdir $d_ir\n",
    "    d_ir_temp=d_ir+'_temp'\n",
    "    !mkdir $d_ir_temp\n",
    "    !sudo nvidia-docker cp $docker_container_name:$dataset_id_path $d_ir_temp\n",
    "    !sudo nvidia-docker cp $docker_container_name:$job_id_path $d_ir_temp\n",
    "    !sudo ls -tr $d_ir_temp/$job_id/*.caffemodel\n",
    "    caffe_model_selection=raw_input()\n",
    "    if (str(caffe_model_selection)==str('all') or str(caffe_model_selection)==str('ALL')):\n",
    "        !sudo cp $d_ir_temp/$job_id/*.caffemodel $d_ir\n",
    "        !sudo cp $d_ir_temp/$job_id/caffe_output.log $d_ir\n",
    "    else:\n",
    "        \n",
    "        !sudo cp $caffe_model_selection $d_ir\n",
    "    !sudo cp $d_ir_temp/$dataset_id/labels.txt $d_ir\n",
    "    !sudo cp $d_ir_temp/$dataset_id/mean.binaryproto $d_ir\n",
    "    !sudo cp $d_ir_temp/$job_id/deploy.prototxt $d_ir\n",
    "    !sudo cp $d_ir_temp/$job_id/original.prototxt $d_ir\n",
    "    !sudo cp $d_ir_temp/$job_id/solver.prototxt $d_ir\n",
    "    !sudo cp $d_ir_temp/$job_id/train_val.prototxt $d_ir\n",
    "    !sudo rm -rf $d_ir_temp/"
   ]
  },
  {
   "cell_type": "markdown",
   "metadata": {},
   "source": [
    " "
   ]
  },
  {
   "cell_type": "markdown",
   "metadata": {},
   "source": [
    " "
   ]
  },
  {
   "cell_type": "markdown",
   "metadata": {},
   "source": [
    "You call the function, by passing in your dataset id, model job id, name a directory for your model to be saved; I'm naming it flowers_model and finally the name of your docker container "
   ]
  },
  {
   "cell_type": "markdown",
   "metadata": {},
   "source": [
    "If your unsure of the name of your docker container run:"
   ]
  },
  {
   "cell_type": "code",
   "execution_count": 31,
   "metadata": {},
   "outputs": [
    {
     "name": "stdout",
     "output_type": "stream",
     "text": [
      "CONTAINER ID        IMAGE               COMMAND              CREATED             STATUS              PORTS                              NAMES\r\n",
      "8689d98142fe        nvidia/digits       \"python -m digits\"   About an hour ago   Up About an hour    0.0.0.0:5000->5000/tcp, 6006/tcp   my_docker_container\r\n"
     ]
    }
   ],
   "source": [
    "!sudo docker ps"
   ]
  },
  {
   "cell_type": "markdown",
   "metadata": {},
   "source": [
    " "
   ]
  },
  {
   "cell_type": "markdown",
   "metadata": {},
   "source": [
    " "
   ]
  },
  {
   "cell_type": "markdown",
   "metadata": {},
   "source": [
    "In my case I've named it my_docker_container, your may vary if you've changed it. You will be prompted for an input, either enter one among the shown path's (Iterations are in Ascending order, Epoch 1 is the top one and Epoch 30 is the last one at the bottom) or if you want all iterations with the caffe log enter 'all'"
   ]
  },
  {
   "cell_type": "code",
   "execution_count": 32,
   "metadata": {},
   "outputs": [
    {
     "name": "stdout",
     "output_type": "stream",
     "text": [
      "/home/sharan.sreesai/flower_model_temp/20171025-010925-8d03/snapshot_iter_87.caffemodel\n",
      "/home/sharan.sreesai/flower_model_temp/20171025-010925-8d03/snapshot_iter_174.caffemodel\n",
      "/home/sharan.sreesai/flower_model_temp/20171025-010925-8d03/snapshot_iter_261.caffemodel\n",
      "/home/sharan.sreesai/flower_model_temp/20171025-010925-8d03/snapshot_iter_348.caffemodel\n",
      "/home/sharan.sreesai/flower_model_temp/20171025-010925-8d03/snapshot_iter_435.caffemodel\n",
      "/home/sharan.sreesai/flower_model_temp/20171025-010925-8d03/snapshot_iter_522.caffemodel\n",
      "/home/sharan.sreesai/flower_model_temp/20171025-010925-8d03/snapshot_iter_609.caffemodel\n",
      "/home/sharan.sreesai/flower_model_temp/20171025-010925-8d03/snapshot_iter_696.caffemodel\n",
      "/home/sharan.sreesai/flower_model_temp/20171025-010925-8d03/snapshot_iter_783.caffemodel\n",
      "/home/sharan.sreesai/flower_model_temp/20171025-010925-8d03/snapshot_iter_870.caffemodel\n",
      "/home/sharan.sreesai/flower_model_temp/20171025-010925-8d03/snapshot_iter_957.caffemodel\n",
      "/home/sharan.sreesai/flower_model_temp/20171025-010925-8d03/snapshot_iter_1044.caffemodel\n",
      "/home/sharan.sreesai/flower_model_temp/20171025-010925-8d03/snapshot_iter_1131.caffemodel\n",
      "/home/sharan.sreesai/flower_model_temp/20171025-010925-8d03/snapshot_iter_1218.caffemodel\n",
      "/home/sharan.sreesai/flower_model_temp/20171025-010925-8d03/snapshot_iter_1305.caffemodel\n",
      "/home/sharan.sreesai/flower_model_temp/20171025-010925-8d03/snapshot_iter_1392.caffemodel\n",
      "/home/sharan.sreesai/flower_model_temp/20171025-010925-8d03/snapshot_iter_1479.caffemodel\n",
      "/home/sharan.sreesai/flower_model_temp/20171025-010925-8d03/snapshot_iter_1566.caffemodel\n",
      "/home/sharan.sreesai/flower_model_temp/20171025-010925-8d03/snapshot_iter_1653.caffemodel\n",
      "/home/sharan.sreesai/flower_model_temp/20171025-010925-8d03/snapshot_iter_1740.caffemodel\n",
      "/home/sharan.sreesai/flower_model_temp/20171025-010925-8d03/snapshot_iter_1827.caffemodel\n",
      "/home/sharan.sreesai/flower_model_temp/20171025-010925-8d03/snapshot_iter_1914.caffemodel\n",
      "/home/sharan.sreesai/flower_model_temp/20171025-010925-8d03/snapshot_iter_2001.caffemodel\n",
      "/home/sharan.sreesai/flower_model_temp/20171025-010925-8d03/snapshot_iter_2088.caffemodel\n",
      "/home/sharan.sreesai/flower_model_temp/20171025-010925-8d03/snapshot_iter_2175.caffemodel\n",
      "/home/sharan.sreesai/flower_model_temp/20171025-010925-8d03/snapshot_iter_2262.caffemodel\n",
      "/home/sharan.sreesai/flower_model_temp/20171025-010925-8d03/snapshot_iter_2349.caffemodel\n",
      "/home/sharan.sreesai/flower_model_temp/20171025-010925-8d03/snapshot_iter_2436.caffemodel\n",
      "/home/sharan.sreesai/flower_model_temp/20171025-010925-8d03/snapshot_iter_2523.caffemodel\n",
      "/home/sharan.sreesai/flower_model_temp/20171025-010925-8d03/snapshot_iter_2610.caffemodel\n",
      "/home/sharan.sreesai/flower_model_temp/20171025-010925-8d03/snapshot_iter_2610.caffemodel\n"
     ]
    }
   ],
   "source": [
    "download_caffe_model('20171025-005921-aa61','20171025-010925-8d03','flower_model','my_docker_container')\n"
   ]
  },
  {
   "cell_type": "markdown",
   "metadata": {},
   "source": [
    " "
   ]
  },
  {
   "cell_type": "markdown",
   "metadata": {},
   "source": [
    "I only wanted the model of my final iteration, so i copied and entered '/home/sharan.sreesai/flower_model_temp/20171025-010925-8d03/snapshot_iter_2610.caffemodel' form what is shown above. You see two of them for the same reason. "
   ]
  },
  {
   "cell_type": "markdown",
   "metadata": {},
   "source": [
    "Your model will be saved in '~/' followed by what you've called your model to be saved as which is the home directory of the VM."
   ]
  },
  {
   "cell_type": "code",
   "execution_count": 33,
   "metadata": {},
   "outputs": [
    {
     "name": "stdout",
     "output_type": "stream",
     "text": [
      "deploy.prototxt   original.prototxt\t\t train_val.prototxt\r\n",
      "labels.txt\t  snapshot_iter_2610.caffemodel\r\n",
      "mean.binaryproto  solver.prototxt\r\n"
     ]
    }
   ],
   "source": [
    "!ls ~/flower_model"
   ]
  },
  {
   "cell_type": "markdown",
   "metadata": {},
   "source": [
    " "
   ]
  },
  {
   "cell_type": "markdown",
   "metadata": {},
   "source": [
    " "
   ]
  },
  {
   "cell_type": "markdown",
   "metadata": {},
   "source": [
    "The most convenient way to download you model is using FTP(File Transfer Protocol)/SFTP(Secure File Transfer Protocol) Client Softwares like WinSCP for Windows, Filezilla for Linux and Cyberduck for macOS. Instruction given in link below. Feel free to use any remote file transfer software that's convenient for you."
   ]
  },
  {
   "cell_type": "markdown",
   "metadata": {},
   "source": [
    " "
   ]
  },
  {
   "cell_type": "markdown",
   "metadata": {},
   "source": [
    "https://github.com/s3p02/gcp_remote_file_transfer/blob/master/README.md"
   ]
  },
  {
   "cell_type": "markdown",
   "metadata": {},
   "source": [
    " "
   ]
  },
  {
   "cell_type": "markdown",
   "metadata": {},
   "source": [
    "I humbly thank Dr. Dan Connors for all his support and guidance while preparing this tutorial."
   ]
  }
 ],
 "metadata": {
  "kernelspec": {
   "display_name": "Python 2",
   "language": "python",
   "name": "python2"
  },
  "language_info": {
   "codemirror_mode": {
    "name": "ipython",
    "version": 2
   },
   "file_extension": ".py",
   "mimetype": "text/x-python",
   "name": "python",
   "nbconvert_exporter": "python",
   "pygments_lexer": "ipython2",
   "version": "2.7.13"
  }
 },
 "nbformat": 4,
 "nbformat_minor": 2
}
